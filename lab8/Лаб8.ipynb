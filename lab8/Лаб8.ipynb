{
 "cells": [
  {
   "cell_type": "code",
   "execution_count": 4,
   "id": "3e0965f9",
   "metadata": {},
   "outputs": [
    {
     "data": {
      "text/plain": [
       "'0abcdefghijklmnopqrstuvwxyzABCDEFGHIJKLMNOPQRSTUVWXYZ1abcdefghijklmnopqrstuvwxyzABCDEFGHIJKLMNOPQRSTUVWXYZ2abcdefghijklmnopqrstuvwxyzABCDEFGHIJKLMNOPQRSTUVWXYZ3abcdefghijklmnopqrstuvwxyzABCDEFGHIJKLMNOPQRSTUVWXYZ4abcdefghijklmnopqrstuvwxyzABCDEFGHIJKLMNOPQRSTUVWXYZ5abcdefghijklmnopqrstuvwxyzABCDEFGHIJKLMNOPQRSTUVWXYZ6abcdefghijklmnopqrstuvwxyzABCDEFGHIJKLMNOPQRSTUVWXYZ7abcdefghijklmnopqrstuvwxyzABCDEFGHIJKLMNOPQRSTUVWXYZ8abcdefghijklmnopqrstuvwxyzABCDEFGHIJKLMNOPQRSTUVWXYZ9'"
      ]
     },
     "execution_count": 4,
     "metadata": {},
     "output_type": "execute_result"
    }
   ],
   "source": [
    "import random as rnd\n",
    "import string as strg\n",
    "\n",
    "abc = strg.ascii_letters.join(strg.digits)\n",
    "abc"
   ]
  },
  {
   "cell_type": "code",
   "execution_count": 6,
   "id": "412c36d0",
   "metadata": {},
   "outputs": [],
   "source": [
    "p1 = \"НаВашисходящийот1204\"\n",
    "p2 = \"ВСеверныйфилиалБанка\"\n",
    "\n",
    "k = \"\".join(rnd.choice(abc) for i in range(len(p1)))"
   ]
  },
  {
   "cell_type": "code",
   "execution_count": 8,
   "id": "3ee1a012",
   "metadata": {},
   "outputs": [],
   "source": [
    "def xor_string(data, key):\n",
    "    return \"\".join(chr(ord(x)^ord(y)) for x, y in zip(data, key))"
   ]
  },
  {
   "cell_type": "code",
   "execution_count": 9,
   "id": "637bb7d9",
   "metadata": {},
   "outputs": [
    {
     "data": {
      "text/plain": [
       "'d1a5d1bad1a8d1a5d0acd19dd084d0a2d1bdd1a7d09cd0aad19dd1a3d19fd0965a7c5d42'"
      ]
     },
     "execution_count": 9,
     "metadata": {},
     "output_type": "execute_result"
    }
   ],
   "source": [
    "c1 = xor_string(p1, k)\n",
    "\n",
    "bytes(c1, \"UTF-8\").hex()"
   ]
  },
  {
   "cell_type": "code",
   "execution_count": 11,
   "id": "c87b2538",
   "metadata": {},
   "outputs": [
    {
     "data": {
      "text/plain": [
       "'d1aad1abd18fd1a7d191d0a5d1b8d0acd1bad097d1abd198d19dd1aad19ad185d19bd1b3d197d186'"
      ]
     },
     "execution_count": 11,
     "metadata": {},
     "output_type": "execute_result"
    }
   ],
   "source": [
    "c2 = xor_string(p2, k)\n",
    "\n",
    "bytes(c2, \"UTF-8\").hex()"
   ]
  },
  {
   "cell_type": "code",
   "execution_count": 12,
   "id": "5e9fcde8",
   "metadata": {},
   "outputs": [
    {
     "data": {
      "text/plain": [
       "'0f1127027d787c0e0770777200090553d081d08fd08ad084'"
      ]
     },
     "execution_count": 12,
     "metadata": {},
     "output_type": "execute_result"
    }
   ],
   "source": [
    "p1_xor_p2 = xor_string(p1, p2)\n",
    "\n",
    "bytes(p1_xor_p2, \"UTF-8\").hex()"
   ]
  },
  {
   "cell_type": "code",
   "execution_count": 14,
   "id": "d8cee7c1",
   "metadata": {},
   "outputs": [
    {
     "data": {
      "text/plain": [
       "'ВСеверныйфилиалБанка'"
      ]
     },
     "execution_count": 14,
     "metadata": {},
     "output_type": "execute_result"
    }
   ],
   "source": [
    "p2_found = xor_string(p1_xor_p2, p1)\n",
    "p2_found"
   ]
  },
  {
   "cell_type": "code",
   "execution_count": 16,
   "id": "01a7b1a6",
   "metadata": {},
   "outputs": [
    {
     "data": {
      "text/plain": [
       "True"
      ]
     },
     "execution_count": 16,
     "metadata": {},
     "output_type": "execute_result"
    }
   ],
   "source": [
    "p2_found == p2"
   ]
  },
  {
   "cell_type": "code",
   "execution_count": 18,
   "id": "28e36abf",
   "metadata": {},
   "outputs": [
    {
     "data": {
      "text/plain": [
       "'НаВашисходящийот1204'"
      ]
     },
     "execution_count": 18,
     "metadata": {},
     "output_type": "execute_result"
    }
   ],
   "source": [
    "p1_found = xor_string(p1_xor_p2, p2_found)\n",
    "p1_found"
   ]
  },
  {
   "cell_type": "code",
   "execution_count": 19,
   "id": "7606ec8c",
   "metadata": {},
   "outputs": [
    {
     "data": {
      "text/plain": [
       "True"
      ]
     },
     "execution_count": 19,
     "metadata": {},
     "output_type": "execute_result"
    }
   ],
   "source": [
    "p1_found == p1"
   ]
  }
 ],
 "metadata": {
  "kernelspec": {
   "display_name": "Python 3",
   "language": "python",
   "name": "python3"
  },
  "language_info": {
   "codemirror_mode": {
    "name": "ipython",
    "version": 3
   },
   "file_extension": ".py",
   "mimetype": "text/x-python",
   "name": "python",
   "nbconvert_exporter": "python",
   "pygments_lexer": "ipython3",
   "version": "3.8.8"
  }
 },
 "nbformat": 4,
 "nbformat_minor": 5
}
